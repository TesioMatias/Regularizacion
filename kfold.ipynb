{
 "cells": [
  {
   "cell_type": "code",
   "execution_count": 14,
   "metadata": {},
   "outputs": [
    {
     "name": "stderr",
     "output_type": "stream",
     "text": [
      "/opt/anaconda3/envs/deep/lib/python3.7/site-packages/sklearn/utils/deprecation.py:144: FutureWarning: The sklearn.linear_model.logistic module is  deprecated in version 0.22 and will be removed in version 0.24. The corresponding classes / functions should instead be imported from sklearn.linear_model. Anything that cannot be imported from sklearn.linear_model is now part of the private API.\n",
      "  warnings.warn(message, FutureWarning)\n",
      "Using TensorFlow backend.\n"
     ]
    }
   ],
   "source": [
    "from sklearn.linear_model import LogisticRegression\n",
    "from sklearn.model_selection import StratifiedKFold\n",
    "from reg_helper import get_polynimial_set"
   ]
  },
  {
   "cell_type": "code",
   "execution_count": 22,
   "metadata": {},
   "outputs": [],
   "source": [
    "import numpy as np\n",
    "import draw_nn\n",
    "from matplotlib import pyplot as plt \n",
    "folder = 'data/'\n",
    "X_train = np.load(folder+'X_train.npy')\n",
    "X_test = np.load(folder+'X_test.npy')\n",
    "y_train = np.load(folder+'y_train.npy') \n",
    "y_test = np.load(folder+'y_test.npy')\n",
    "X = np.vstack([X_train, X_test])\n",
    "X = get_polynimial_set(X, degree=3)\n",
    "y = np.hstack([y_train, y_test])"
   ]
  },
  {
   "cell_type": "code",
   "execution_count": 23,
   "metadata": {},
   "outputs": [
    {
     "data": {
      "text/plain": [
       "((118, 10), (118,))"
      ]
     },
     "execution_count": 23,
     "metadata": {},
     "output_type": "execute_result"
    }
   ],
   "source": [
    "X.shape, y.shape"
   ]
  },
  {
   "cell_type": "code",
   "execution_count": 40,
   "metadata": {},
   "outputs": [
    {
     "name": "stdout",
     "output_type": "stream",
     "text": [
      "[0.79166667 0.75       0.83333333 0.86956522 0.7826087 ]\n",
      "0.8054347826086957\n",
      "[0.30395542157667127, 0.6403029148643103, 0.7708126329502264, 0.6067607335366517, 0.45785217068075046, 0.7218939980360902, 0.49357311359051725, 0.6917556636150471, 0.5925871598690281, 0.2792650810046417, 0.5348178213826736, 0.5478695240871448, 0.5265936713705797, 0.29346423298309116, 0.6646396139229303, 0.4406775298154043, 0.3531288656146375, 0.5298285797472132, 0.703261604067632, 0.3679179387861581, 0.6190228702495173, 0.31679049889464034, 0.34896580891739765, 0.40806987897352376, 0.6207407291998508, 0.6357978813960328, 0.6503379918138944, 0.500989607738829, 0.618471498257748, 0.40745906304010643, 0.4577820663446742, 0.4086574887713789, 0.554784117884442, 0.3630342517703386, 0.2678774265014678, 0.5003705284314164, 0.5399510445110998, 0.5379952214839051, 0.7194095539845002, 0.4716499482771697, 0.25778965062651893, 0.631854102767698, 0.4828686311538051, 0.2985572598529909, 0.5550874797697817, 0.30849785617266257, 0.41141110270231895, 0.43748754407276297, 0.6999246436821208, 0.5154850072320937, 0.6517225076454823, 0.6514385433439617, 0.7115718735781956, 0.6039461710195632, 0.5695143250490734, 0.26679964376632603, 0.5241140283504612, 0.6785929223299991, 0.706689431409394, 0.33382781402876127, 0.7537412587173072, 0.5121583192164089, 0.2434750333096589, 0.3214454670445966, 0.3875749842400419, 0.5488154664463918, 0.5297076497286738, 0.36192589577321715, 0.13723284689231516, 0.13345963107815365, 0.3249957433530616, 0.34696675650678416, 0.4867253327176308, 0.6288582463038742, 0.7182360878702896, 0.5971860557322549, 0.13720059511456725, 0.23858279243902233, 0.2825577774231235, 0.4019307832915096, 0.5398274790663301, 0.4334984327528282, 0.33568176001673516, 0.3460550994530855, 0.1938542798111665, 0.6986129634198772, 0.5832165586048842, 0.418824518410631, 0.5452949080530723, 0.7089604289769761, 0.5482988362537808, 0.3482758267494195, 0.506180551842779, 0.751325852746944, 0.6646978280544743, 0.3523141732406676, 0.2913744744811875, 0.7300474512711805, 0.553634342384365, 0.5772659849743158, 0.3763335097689029, 0.6410207915150175, 0.34530465287708084, 0.6228344757035836, 0.40730221914526604, 0.549970447031847, 0.15548022734731165, 0.691641475870903, 0.6610516112544135, 0.20803806798983557, 0.463961672521838, 0.5074682835937989, 0.7014708068846485, 0.5071183608714959, 0.3886624536800084, 0.5967055002864768, 0.5563860992760511, 0.6325492814713577]\n"
     ]
    }
   ],
   "source": [
    "skf = StratifiedKFold(n_splits=5)\n",
    "skf.get_n_splits(X, y)\n",
    "scores = []\n",
    "predictions = []\n",
    "for train_index, test_index in skf.split(X, y):\n",
    "    X_train, X_test = X[train_index], X[test_index]\n",
    "    y_train, y_test = y[train_index], y[test_index]\n",
    "    clf = LogisticRegression()\n",
    "    clf.fit(X, y)\n",
    "    scores.append(clf.score(X_test, y_test))\n",
    "    predictions = predictions + list(clf.predict_proba(X_test)[:,1])\n",
    "scores = np.array(scores)\n",
    "print(scores)\n",
    "print(scores.mean())\n",
    "print(predictions)"
   ]
  },
  {
   "cell_type": "code",
   "execution_count": 37,
   "metadata": {},
   "outputs": [
    {
     "data": {
      "text/plain": [
       "118"
      ]
     },
     "execution_count": 37,
     "metadata": {},
     "output_type": "execute_result"
    }
   ],
   "source": [
    "len(predictions)"
   ]
  },
  {
   "cell_type": "code",
   "execution_count": null,
   "metadata": {},
   "outputs": [],
   "source": []
  }
 ],
 "metadata": {
  "kernelspec": {
   "display_name": "Python 3",
   "language": "python",
   "name": "python3"
  },
  "language_info": {
   "codemirror_mode": {
    "name": "ipython",
    "version": 3
   },
   "file_extension": ".py",
   "mimetype": "text/x-python",
   "name": "python",
   "nbconvert_exporter": "python",
   "pygments_lexer": "ipython3",
   "version": "3.7.7"
  }
 },
 "nbformat": 4,
 "nbformat_minor": 4
}
